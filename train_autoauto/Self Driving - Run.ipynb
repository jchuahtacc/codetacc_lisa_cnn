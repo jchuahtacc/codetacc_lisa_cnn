{
 "cells": [
  {
   "cell_type": "markdown",
   "metadata": {},
   "source": [
    "# Auto Driving\n",
    "\n",
    "This notebook requires a trained categorical model for driving."
   ]
  },
  {
   "cell_type": "markdown",
   "metadata": {},
   "source": [
    "### Helper Functions\n",
    "\n",
    "- `load_trained_model(model_file)`: This will load and return the model contained in an HDF5 file\n",
    "- `predict(model)`: Predict the current view of the road from the camera\n",
    "- `capture_road_view()`: Get the car's view of the road\n",
    "- `drive(direction)`: Drive a little bit in the given direction. Positive values are to the left, negative values are to the right"
   ]
  },
  {
   "cell_type": "code",
   "execution_count": null,
   "metadata": {},
   "outputs": [],
   "source": [
    "from keras.models import load_model\n",
    "import cv2\n",
    "import numpy as np\n",
    "\n",
    "tags = [ \"forward\", \"slight_left\", \"left\", \"sharp_left\", \"slight_right\", \"right\", \"sharp_right\" ]\n",
    "def capture_road_view():\n",
    "    return cv2.cvtColor(cv2.resize(car.capture()[120:], (64, 64), interpolation = cv2.INTER_CUBIC), cv2.COLOR_BGR2GRAY)\n",
    "\n",
    "def load_trained_model(model_file):\n",
    "    model = load_model(model_file)\n",
    "    return model\n",
    "\n",
    "def predict(model):\n",
    "    global tags\n",
    "    image = capture_road_view()\n",
    "    image = np.array([ image.reshape(64, 64, 1) ])\n",
    "    return tags[ model.predict_classes( image )[0] ]\n",
    "\n",
    "def drive(direction):\n",
    "    global last_direction    \n",
    "    steering.set_steering(direction)\n",
    "    throttle.set_throttle(70)\n",
    "    time.sleep(0.1)\n",
    "    throttle.set_throttle(0)\n",
    "    time.sleep(0.2)\n",
    "    last_direction = direction"
   ]
  }
 ],
 "metadata": {
  "kernelspec": {
   "display_name": "Python 3",
   "language": "python",
   "name": "python3"
  },
  "language_info": {
   "codemirror_mode": {
    "name": "ipython",
    "version": 3
   },
   "file_extension": ".py",
   "mimetype": "text/x-python",
   "name": "python",
   "nbconvert_exporter": "python",
   "pygments_lexer": "ipython3",
   "version": "3.5.3"
  }
 },
 "nbformat": 4,
 "nbformat_minor": 2
}
