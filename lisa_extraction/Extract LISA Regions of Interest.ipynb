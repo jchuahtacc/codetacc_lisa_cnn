{
 "cells": [
  {
   "cell_type": "markdown",
   "metadata": {},
   "source": [
    "# Extract LISA Regions of Interest\n",
    "\n",
    "This notebook extracts ROI from the [Laboratory for Intelligent and Safe Automobiles dataset](http://cvrr.ucsd.edu/LISA/lisa-traffic-sign-dataset.html) using the included annotation file and places each category of sign into a different subdirectory."
   ]
  },
  {
   "cell_type": "markdown",
   "metadata": {},
   "source": [
    "### Install Packages\n",
    "\n",
    "This notebook requires `opencv` and `pandas`. You may uncomment and run the cell below to have Jupyter Notebook install these packages."
   ]
  },
  {
   "cell_type": "code",
   "execution_count": 1,
   "metadata": {},
   "outputs": [],
   "source": [
    "# !pip install opencv pandas"
   ]
  },
  {
   "cell_type": "markdown",
   "metadata": {},
   "source": [
    "### Configuration\n",
    "\n",
    "Set these pathnames to specify where the LISA data is located, and where to store the categorized images."
   ]
  },
  {
   "cell_type": "code",
   "execution_count": 2,
   "metadata": {},
   "outputs": [],
   "source": [
    "lisa_dataset_path = \"lisa\"\n",
    "categorical_output_path = \"categorical\""
   ]
  },
  {
   "cell_type": "markdown",
   "metadata": {},
   "source": [
    "### Run Me!\n",
    "\n",
    "Run this code to perform the ROI extraction."
   ]
  },
  {
   "cell_type": "code",
   "execution_count": 5,
   "metadata": {
    "scrolled": false
   },
   "outputs": [
    {
     "data": {
      "text/plain": [
       "'7855 of 7855: categorical/speedLimit35/speedLimit35_7854.png'"
      ]
     },
     "metadata": {},
     "output_type": "display_data"
    },
    {
     "name": "stdout",
     "output_type": "stream",
     "text": [
      "Done!\n"
     ]
    }
   ],
   "source": [
    "import cv2\n",
    "import pandas as pd\n",
    "import os\n",
    "from IPython.display import display, clear_output\n",
    "\n",
    "clear_output()\n",
    "\n",
    "try:\n",
    "    os.stat(categorical_output_path)\n",
    "except:\n",
    "    os.mkdir(categorical_output_path)\n",
    "\n",
    "paramnames = ['filename', 'category', 'ulx', 'uly', 'llx', 'lly', 'occluded']\n",
    "filenames = list()\n",
    "categories = list()\n",
    "ulxs = list()\n",
    "ulys = list()\n",
    "lrxs = list()\n",
    "lrys = list()\n",
    "occludeds = list()\n",
    "widths = list()\n",
    "heights = list()\n",
    "\n",
    "annotations = pd.read_csv(os.path.join(lisa_dataset_path, 'allAnnotations.csv'))\n",
    "for annotation in annotations[annotations.columns[0]].values:\n",
    "    params = annotation.split(\";\")\n",
    "    filenames.append(params[0])\n",
    "    categories.append(params[1])\n",
    "    category_path = os.path.join(categorical_output_path, params[1])\n",
    "    try:\n",
    "        os.stat(category_path)\n",
    "    except:\n",
    "        os.mkdir(category_path)\n",
    "    ulxs.append(int(params[2]))\n",
    "    ulys.append(int(params[3]))\n",
    "    lrxs.append(int(params[4]))\n",
    "    lrys.append(int(params[5]))\n",
    "    widths.append(int(params[4]) - int(params[2]))\n",
    "    heights.append(int(params[5]) - int(params[3]))\n",
    "    occludeds.append(int(params[6]))\n",
    "\n",
    "for i in range(len(filenames)):\n",
    "    img = cv2.imread(os.path.join(lisa_dataset_path, filenames[i]))\n",
    "    roi = img[ulys[i]:lrys[i], ulxs[i]:lrxs[i]]\n",
    "    outputname = os.path.join(categorical_output_path, categories[i], \"{}_{}.png\".format(categories[i], str(i)))\n",
    "    cv2.imwrite(outputname, roi)\n",
    "    clear_output()\n",
    "    display(\"{} of {}: {}\".format(str(i + 1), len(filenames), outputname))\n",
    "\n",
    "print(\"Done!\")"
   ]
  }
 ],
 "metadata": {
  "kernelspec": {
   "display_name": "Python 3",
   "language": "python",
   "name": "python3"
  },
  "language_info": {
   "codemirror_mode": {
    "name": "ipython",
    "version": 3
   },
   "file_extension": ".py",
   "mimetype": "text/x-python",
   "name": "python",
   "nbconvert_exporter": "python",
   "pygments_lexer": "ipython3",
   "version": "3.6.4"
  }
 },
 "nbformat": 4,
 "nbformat_minor": 2
}
